{
 "cells": [
  {
   "cell_type": "markdown",
   "metadata": {
    "deletable": false,
    "editable": false,
    "nbgrader": {
     "checksum": "6d074d8d5c295a6838a953522f5fa8b4",
     "grade": false,
     "grade_id": "Introduction",
     "locked": true,
     "schema_version": 1,
     "solution": false
    }
   },
   "source": [
    "# Self-study Codio activity: Lists and loops\n",
    "---\n",
    "    \n",
    "## Overview\n",
    "\n",
    "In this activity, you will write simple 'while' loops and 'for' loops in conjunction with range() and lists.\n",
    "\n",
    "This activity is designed to build your familiarity and comfort coding in Python while also helping you review the key topics from each module. As you progress through the activity, the questions will get increasingly more complex. It is important that you adopt a programmer's mindset when completing this activity. Remember to run your code from each cell before submitting your activity, as doing so will give you a chance to fix any errors before submitting.\n",
    "\n",
    "### Learning outcome addressed  \n",
    "\n",
    "- Write simple ‘for’ and ‘while’ loops.\n",
    "\n",
    "\n",
    "\n",
    " \n",
    "\n"
   ]
  },
  {
   "cell_type": "markdown",
   "metadata": {
    "deletable": false,
    "editable": false,
    "nbgrader": {
     "checksum": "277b33d673ff39d32160752746e7e8ff",
     "grade": false,
     "grade_id": "Index",
     "locked": true,
     "schema_version": 1,
     "solution": false
    }
   },
   "source": [
    "\n",
    "\n",
    "## Index:\n",
    "\n",
    "- [Question 1](#Question-1)\n",
    "- [Question 2](#Question-2)\n",
    "- [Question 3](#Question-3)\n",
    "- [Question 4](#Question-4)\n",
    "- [Question 5](#Question-5)\n",
    "- [Question 6](#Question-6)\n",
    "- [Question 7](#Question-7)\n",
    "- [Question 8](#Question-8)\n",
    "- [Question 9](#Question-9)\n",
    "- [Question 10](#Question-10)\n",
    "- [Question 11](#Question-11)\n"
   ]
  },
  {
   "cell_type": "markdown",
   "metadata": {
    "deletable": false,
    "editable": false,
    "nbgrader": {
     "checksum": "1825515cfa1d9c8a29e707ea68e8971c",
     "grade": false,
     "grade_id": "Q1_Description",
     "locked": true,
     "schema_version": 1,
     "solution": false
    }
   },
   "source": [
    "[Back to top](#Index:) \n",
    "\n",
    "### Question 1\n",
    "Perform the following tasks:\n",
    "- Create a list called **friends_list** with the string names 'Daniel','Randolph','Johnny','Duane' and 'Coreen' as elements, in that order. You will use this list for future questions.\n",
    "\n"
   ]
  },
  {
   "cell_type": "code",
   "execution_count": 5,
   "metadata": {
    "deletable": false,
    "nbgrader": {
     "checksum": "c04c39871726bba2700c897a9c5c75b1",
     "grade": false,
     "grade_id": "Instatiate",
     "locked": false,
     "schema_version": 1,
     "solution": true
    }
   },
   "outputs": [
    {
     "name": "stdout",
     "output_type": "stream",
     "text": [
      "['Daniel', 'Randolph', 'Johnny', 'Duane', 'Coreen']\n"
     ]
    }
   ],
   "source": [
    "friends_list = []\n",
    "\n",
    "# YOUR CODE HERE\n",
    "friends_list = ['Daniel', 'Randolph', 'Johnny','Duane', 'Coreen']\n",
    "\n",
    "# Answer check\n",
    "print(friends_list)"
   ]
  },
  {
   "cell_type": "code",
   "execution_count": null,
   "metadata": {
    "deletable": false,
    "editable": false,
    "nbgrader": {
     "checksum": "5b43336357c31463a8a860d24397c751",
     "grade": true,
     "grade_id": "InstantiateTest",
     "locked": true,
     "points": 3,
     "schema_version": 1,
     "solution": false
    }
   },
   "outputs": [],
   "source": [
    "\n",
    "\n",
    "\n"
   ]
  },
  {
   "cell_type": "markdown",
   "metadata": {
    "deletable": false,
    "editable": false,
    "nbgrader": {
     "checksum": "f62c15ac1cd0c262f384b5e1b77fea11",
     "grade": false,
     "grade_id": "Q2_Description",
     "locked": true,
     "schema_version": 1,
     "solution": false
    }
   },
   "source": [
    "[Back to top](#Index:) \n",
    "\n",
    "### Question 2\n",
    "Perform the following tasks:\n",
    "- Determine the length of `friends_list` with `len`, and assign the length to the variable **ans2**.\n",
    "\n"
   ]
  },
  {
   "cell_type": "code",
   "execution_count": 7,
   "metadata": {
    "deletable": false,
    "nbgrader": {
     "checksum": "e979539713d6fe008c6aace61d3c5154",
     "grade": false,
     "grade_id": "Len",
     "locked": false,
     "schema_version": 1,
     "solution": true
    }
   },
   "outputs": [
    {
     "name": "stdout",
     "output_type": "stream",
     "text": [
      "5\n"
     ]
    }
   ],
   "source": [
    "ans2 = None\n",
    "\n",
    "# YOUR CODE HERE\n",
    "ans2 = len (friends_list)\n",
    "\n",
    "# Answer check\n",
    "print(ans2)\n",
    "\n"
   ]
  },
  {
   "cell_type": "code",
   "execution_count": null,
   "metadata": {
    "deletable": false,
    "editable": false,
    "nbgrader": {
     "checksum": "64579151735267ff6f381da5ce0c1ad7",
     "grade": true,
     "grade_id": "LenTest",
     "locked": true,
     "points": 3,
     "schema_version": 1,
     "solution": false
    }
   },
   "outputs": [],
   "source": [
    "\n",
    "\n",
    "\n"
   ]
  },
  {
   "cell_type": "markdown",
   "metadata": {
    "deletable": false,
    "editable": false,
    "nbgrader": {
     "checksum": "658f65b90db565a3e9209bebb1333cdc",
     "grade": false,
     "grade_id": "Q3_Description",
     "locked": true,
     "schema_version": 1,
     "solution": false
    }
   },
   "source": [
    "[Back to top](#Index:) \n",
    "\n",
    "### Question 3\n",
    "Perform the following tasks:\n",
    "- Using indexing, assign the second element of `friends_list` to the variable `ans3a`.\n",
    "- Using indexing, assign the last element of `friends_list` to the variable `ans3b`.\n",
    "\n",
    "Hint: remember that the first element of a list is at index 0!\n"
   ]
  },
  {
   "cell_type": "code",
   "execution_count": 9,
   "metadata": {
    "deletable": false,
    "nbgrader": {
     "checksum": "7a74b9787db85ec032df7f2befc02772",
     "grade": false,
     "grade_id": "Indexing",
     "locked": false,
     "schema_version": 1,
     "solution": true
    }
   },
   "outputs": [
    {
     "name": "stdout",
     "output_type": "stream",
     "text": [
      "Randolph\n",
      "Coreen\n"
     ]
    }
   ],
   "source": [
    "ans3a = None\n",
    "ans3b = None\n",
    "\n",
    "# YOUR CODE HERE\n",
    "ans3a = friends_list [1]\n",
    "ans3b = friends_list [4]\n",
    "\n",
    "# Answer check\n",
    "print(ans3a)\n",
    "print(ans3b)\n"
   ]
  },
  {
   "cell_type": "code",
   "execution_count": null,
   "metadata": {
    "deletable": false,
    "editable": false,
    "nbgrader": {
     "checksum": "8ad620529cc01ef63b808c4654361750",
     "grade": true,
     "grade_id": "IndexingTest",
     "locked": true,
     "points": 3,
     "schema_version": 1,
     "solution": false
    }
   },
   "outputs": [],
   "source": [
    "\n",
    "\n",
    "\n"
   ]
  },
  {
   "cell_type": "markdown",
   "metadata": {
    "deletable": false,
    "editable": false,
    "nbgrader": {
     "checksum": "8ac67ebd5399461f6d3fd28613fb0a50",
     "grade": false,
     "grade_id": "Q4_Description",
     "locked": true,
     "schema_version": 1,
     "solution": false
    }
   },
   "source": [
    "[Back to top](#Index:) \n",
    "\n",
    "### Question 4\n",
    "\n",
    "Perform the following tasks:\n",
    "- Using index slicing, assign `last_three` to be a list containing the LAST three elements of `friends_list`.\n",
    "\n"
   ]
  },
  {
   "cell_type": "code",
   "execution_count": 11,
   "metadata": {
    "deletable": false,
    "nbgrader": {
     "checksum": "9456dd4bf1897e8dd76245cc0e8f31f9",
     "grade": false,
     "grade_id": "Slice",
     "locked": false,
     "schema_version": 1,
     "solution": true
    }
   },
   "outputs": [
    {
     "name": "stdout",
     "output_type": "stream",
     "text": [
      "['Johnny', 'Duane', 'Coreen']\n"
     ]
    }
   ],
   "source": [
    "last_three = None\n",
    "\n",
    "# YOUR CODE HERE\n",
    "last_three = friends_list [2:5]\n",
    "\n",
    "# Answer check\n",
    "print(last_three)"
   ]
  },
  {
   "cell_type": "code",
   "execution_count": null,
   "metadata": {
    "deletable": false,
    "editable": false,
    "nbgrader": {
     "checksum": "f5455af3068334e1838c031be220fa29",
     "grade": true,
     "grade_id": "SliceTest",
     "locked": true,
     "points": 3,
     "schema_version": 1,
     "solution": false
    }
   },
   "outputs": [],
   "source": [
    "\n",
    "\n",
    "\n"
   ]
  },
  {
   "cell_type": "markdown",
   "metadata": {
    "deletable": false,
    "editable": false,
    "nbgrader": {
     "checksum": "168a681c53e062ccedab27f653ff058a",
     "grade": false,
     "grade_id": "Q5_Description",
     "locked": true,
     "schema_version": 1,
     "solution": false
    }
   },
   "source": [
    "[Back to top](#Index:) \n",
    "\n",
    "### Question 5\n",
    "\n",
    "Perform the following tasks:\n",
    "- Using `enemies_list.index()`, assign the index of \"Thanos\" to ans5.\n",
    "\n"
   ]
  },
  {
   "cell_type": "code",
   "execution_count": 13,
   "metadata": {
    "deletable": false,
    "nbgrader": {
     "checksum": "efd4221d241c5e495c27581370b9e2fd",
     "grade": false,
     "grade_id": "Indexof",
     "locked": false,
     "schema_version": 1,
     "solution": true
    }
   },
   "outputs": [
    {
     "name": "stdout",
     "output_type": "stream",
     "text": [
      "1\n"
     ]
    }
   ],
   "source": [
    "enemies_list = [\"Joker\", \"Thanos\", \"Tai Lung\", \"Grinch\", \"Duke\"] # Do not change this line\n",
    "\n",
    "ans5 = None\n",
    "\n",
    "# YOUR CODE HERE\n",
    "ans5 = enemies_list.index('Thanos')\n",
    "\n",
    "# Answer check\n",
    "print(ans5)"
   ]
  },
  {
   "cell_type": "code",
   "execution_count": null,
   "metadata": {
    "deletable": false,
    "editable": false,
    "nbgrader": {
     "checksum": "c1759b0e942ece001e86dd444ce477b5",
     "grade": true,
     "grade_id": "IndexofTest",
     "locked": true,
     "points": 3,
     "schema_version": 1,
     "solution": false
    }
   },
   "outputs": [],
   "source": []
  },
  {
   "cell_type": "markdown",
   "metadata": {
    "deletable": false,
    "editable": false,
    "nbgrader": {
     "checksum": "8f6e3006a5ca13bd603f355cad022c47",
     "grade": false,
     "grade_id": "Q6_Description",
     "locked": true,
     "schema_version": 1,
     "solution": false
    }
   },
   "source": [
    "[Back to top](#Index:) \n",
    "\n",
    "### Question 6\n",
    "Perform the following tasks:\n",
    "- Using `enemies_list.insert()`, insert \"Moriarty\" one index after \"Thanos\".\n"
   ]
  },
  {
   "cell_type": "code",
   "execution_count": 15,
   "metadata": {
    "deletable": false,
    "nbgrader": {
     "checksum": "fbd0b77fef9b72e9afaf72745b1e6f5f",
     "grade": false,
     "grade_id": "Insert",
     "locked": false,
     "schema_version": 1,
     "solution": true
    }
   },
   "outputs": [
    {
     "name": "stdout",
     "output_type": "stream",
     "text": [
      "['Joker', 'Thanos', 'Moriarty', 'Tai Lung', 'Grinch', 'Duke']\n"
     ]
    }
   ],
   "source": [
    "\n",
    "enemies_list = [\"Joker\", \"Thanos\", \"Tai Lung\", \"Grinch\", \"Duke\"] # Do not change this line\n",
    "\n",
    "# YOUR CODE HERE\n",
    "enemies_list.insert(2, 'Moriarty')\n",
    "\n",
    "# Answer check\n",
    "print(enemies_list)\n"
   ]
  },
  {
   "cell_type": "code",
   "execution_count": null,
   "metadata": {
    "deletable": false,
    "editable": false,
    "nbgrader": {
     "checksum": "8f28bc843e4c598737ed9eb5300891d7",
     "grade": true,
     "grade_id": "InsertTest",
     "locked": true,
     "points": 3,
     "schema_version": 1,
     "solution": false
    }
   },
   "outputs": [],
   "source": []
  },
  {
   "cell_type": "markdown",
   "metadata": {
    "deletable": false,
    "editable": false,
    "nbgrader": {
     "checksum": "ef3325f0fdcea16052b7cca7935fd77d",
     "grade": false,
     "grade_id": "Q7_Description",
     "locked": true,
     "schema_version": 1,
     "solution": false
    }
   },
   "source": [
    "###### [Back to top](#Index:) \n",
    "\n",
    "### Question 7\n",
    "Perform the following tasks:\n",
    "- Assign `ans7a` to `True` if the tenth letter in `string` is an F, or `False` otherwise.\n",
    "- Assign `ans7b` to `True` if the fourth letter in `string` is an F, or `False` otherwise.\n",
    "\n"
   ]
  },
  {
   "cell_type": "code",
   "execution_count": 17,
   "metadata": {
    "deletable": false,
    "nbgrader": {
     "checksum": "bc483bf73a3619981b0bfb42d2bf5fc9",
     "grade": false,
     "grade_id": "List_Insert_Ans",
     "locked": false,
     "schema_version": 1,
     "solution": true
    }
   },
   "outputs": [
    {
     "name": "stdout",
     "output_type": "stream",
     "text": [
      "False\n",
      "False\n"
     ]
    }
   ],
   "source": [
    "string = \"SUPERCALIFRAGILISTICEXPIALIDOCIOUS\"\n",
    "\n",
    "ans7a = None\n",
    "ans7b = None\n",
    "\n",
    "# YOUR CODE HERE\n",
    "ans7a = string [9] == False\n",
    "ans7b = string [3] == False\n",
    "\n",
    "# Answer check\n",
    "print(ans7a)\n",
    "print(ans7b)\n"
   ]
  },
  {
   "cell_type": "code",
   "execution_count": null,
   "metadata": {
    "deletable": false,
    "editable": false,
    "nbgrader": {
     "checksum": "5575ef893b9854ab67456c822a2b6935",
     "grade": true,
     "grade_id": "List_Insert_Test",
     "locked": true,
     "points": 3,
     "schema_version": 1,
     "solution": false
    }
   },
   "outputs": [],
   "source": []
  },
  {
   "cell_type": "markdown",
   "metadata": {
    "deletable": false,
    "editable": false,
    "nbgrader": {
     "checksum": "400301098c55252bce49071f7cf665bb",
     "grade": false,
     "grade_id": "Q8_Description",
     "locked": true,
     "schema_version": 1,
     "solution": false
    }
   },
   "source": [
    "###### [Back to top](#Index:) \n",
    "\n",
    "### Question 8\n",
    "\n",
    "The empty list `dj_names` needs to be filled with the names in `friends_list` which start with the letter D **or the letter J**.\n",
    "\n",
    "Perform the following tasks:\n",
    "- Create a for loop to loop through the names in `friends_list`.\n",
    "- Within the loop, if a name starts with D or J, add it to `dj_names` using `dj_names.append()`.\n"
   ]
  },
  {
   "cell_type": "code",
   "execution_count": 19,
   "metadata": {
    "deletable": false,
    "nbgrader": {
     "checksum": "626316fd2f2d9c194abef90265c1a9d1",
     "grade": false,
     "grade_id": "For",
     "locked": false,
     "schema_version": 1,
     "solution": true
    }
   },
   "outputs": [
    {
     "name": "stdout",
     "output_type": "stream",
     "text": [
      "['Daniel', 'Johnny', 'Duane']\n"
     ]
    }
   ],
   "source": [
    "dj_names = []\n",
    "\n",
    "\n",
    "# YOUR CODE HERE\n",
    "for name in friends_list:\n",
    "    if name [0] == 'D' or name [0] == 'J':\n",
    "        dj_names.append(name)\n",
    "\n",
    "# Answer check\n",
    "print(dj_names)"
   ]
  },
  {
   "cell_type": "code",
   "execution_count": null,
   "metadata": {
    "deletable": false,
    "editable": false,
    "nbgrader": {
     "checksum": "bf459f87f0cd6c86a43e09951cf6cc48",
     "grade": true,
     "grade_id": "ForTest",
     "locked": true,
     "points": 3,
     "schema_version": 1,
     "solution": false
    }
   },
   "outputs": [],
   "source": []
  },
  {
   "cell_type": "markdown",
   "metadata": {
    "deletable": false,
    "editable": false,
    "nbgrader": {
     "checksum": "3d612eebf51e5e27dcd27c0849930bcf",
     "grade": false,
     "grade_id": "Q9_Description",
     "locked": true,
     "schema_version": 1,
     "solution": false
    }
   },
   "source": [
    "###### [Back to top](#Index:) \n",
    "\n",
    "### Question 9\n",
    "\n",
    "We need to replace all the non-DJ names with \"Absent\".\n",
    "\n",
    "Perform the following tasks:\n",
    "- Using `for i in range(len(friends_list)):`, loop through each index in `friends_list`.\n",
    "- If the name at index `i` doesn't start with D or J, replace it with `\"Absent\"`.\n"
   ]
  },
  {
   "cell_type": "code",
   "execution_count": 21,
   "metadata": {
    "deletable": false,
    "nbgrader": {
     "checksum": "35a4eb4ad3fe1c2e304816dc28bf410d",
     "grade": false,
     "grade_id": "Range_For_Ans",
     "locked": false,
     "schema_version": 1,
     "solution": true
    }
   },
   "outputs": [
    {
     "name": "stdout",
     "output_type": "stream",
     "text": [
      "['Daniel', 'Absent', 'Johnny', 'Duane', 'Absent']\n"
     ]
    }
   ],
   "source": [
    "friends_list = ['Daniel','Randolph','Johnny','Duane','Coreen'] # Do not change this line\n",
    "\n",
    "\n",
    "# YOUR CODE HERE\n",
    "for i in range (len(friends_list)):\n",
    "    if friends_list [i][0] not in 'DJ':\n",
    "        friends_list [i] = 'Absent'\n",
    "\n",
    "# Answer check\n",
    "\n",
    "print(friends_list)"
   ]
  },
  {
   "cell_type": "code",
   "execution_count": null,
   "metadata": {
    "deletable": false,
    "editable": false,
    "nbgrader": {
     "checksum": "f5048e460593ec811a671799b9f6206a",
     "grade": true,
     "grade_id": "Range_For_Tests",
     "locked": true,
     "points": 3,
     "schema_version": 1,
     "solution": false
    }
   },
   "outputs": [],
   "source": []
  },
  {
   "cell_type": "markdown",
   "metadata": {
    "deletable": false,
    "editable": false,
    "nbgrader": {
     "checksum": "4fcd0ed251286ed6dd80784295430e68",
     "grade": false,
     "grade_id": "Q10_Description",
     "locked": true,
     "schema_version": 1,
     "solution": false
    }
   },
   "source": [
    "###### [Back to top](#Index:) \n",
    "\n",
    "### Question 10\n",
    "\n",
    "Goldbach's conjecture states that, for any natural number $n$, if you repeat the following process:\n",
    "\n",
    "- if n is even: $n = n / 2$\n",
    "- else: $n = 3*n + 1$\n",
    "\n",
    "You will always end at 1 in finite time. For example, the number 3 would follow the sequence 3 - 10 - 5 - 16 - 8 - 4 - 2 - 1. You will write a while loop that finds this sequence.\n",
    "\n",
    "Perform the following tasks:\n",
    "- Write a while loop that terminates when `value` is 1.\n",
    "- In each iteration, if `value` is even, divide it by two. If it is odd, multiply it by 3 and add 1.\n",
    "- Also track the value of `value` in `sequence` using `sequence.append()`. Note the initial value of `value` is already in the list."
   ]
  },
  {
   "cell_type": "code",
   "execution_count": 25,
   "metadata": {
    "deletable": false,
    "nbgrader": {
     "checksum": "6800b4b65f74d4bf4855e16513302358",
     "grade": false,
     "grade_id": "While",
     "locked": false,
     "schema_version": 1,
     "solution": true
    }
   },
   "outputs": [
    {
     "name": "stdout",
     "output_type": "stream",
     "text": [
      "[13440, 6720.0, 3360.0, 1680.0, 840.0, 420.0, 210.0, 105.0, 158.0, 79.0, 119.0, 179.0, 269.0, 404.0, 202.0, 101.0, 152.0, 76.0, 38.0, 19.0, 29.0, 44.0, 22.0, 11.0, 17.0, 26.0, 13.0, 20.0, 10.0, 5.0, 8.0, 4.0, 2.0, 1.0]\n"
     ]
    }
   ],
   "source": [
    "value = 13440\n",
    "sequence = [value]\n",
    "\n",
    "# YOUR CODE HERE\n",
    "while value != 1:\n",
    "    if value %2:\n",
    "        value = value*3 + 1\n",
    "    else:\n",
    "        value /= 2\n",
    "        sequence.append(value)\n",
    "\n",
    "\n",
    "# Answer check\n",
    "print(sequence)"
   ]
  },
  {
   "cell_type": "code",
   "execution_count": null,
   "metadata": {
    "deletable": false,
    "editable": false,
    "nbgrader": {
     "checksum": "656ed09e83072e3ed6d6881df176a2dd",
     "grade": true,
     "grade_id": "WhileTest",
     "locked": true,
     "points": 10,
     "schema_version": 1,
     "solution": false
    }
   },
   "outputs": [],
   "source": []
  }
 ],
 "metadata": {
  "kernelspec": {
   "display_name": "Python 3 (ipykernel)",
   "language": "python",
   "name": "python3"
  },
  "language_info": {
   "codemirror_mode": {
    "name": "ipython",
    "version": 3
   },
   "file_extension": ".py",
   "mimetype": "text/x-python",
   "name": "python",
   "nbconvert_exporter": "python",
   "pygments_lexer": "ipython3",
   "version": "3.12.7"
  }
 },
 "nbformat": 4,
 "nbformat_minor": 4
}
